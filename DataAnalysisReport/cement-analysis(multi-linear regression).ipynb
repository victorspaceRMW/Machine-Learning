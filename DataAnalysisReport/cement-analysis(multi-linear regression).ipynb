{
 "cells": [
  {
   "cell_type": "markdown",
   "metadata": {},
   "source": [
    "# Predicting the Strength of cement from different materials properties via Multi-linear Regression"
   ]
  },
  {
   "cell_type": "markdown",
   "metadata": {},
   "source": [
    "For cement industry, strength of the cement is of vital significance. Traditionally in the field of materials research. Traditionally the researchers need to implement many different experiments to find the appropriate recipe. With the development of modern machine learning technology, it is now possible to use machine learning to find the possible \"excellent\" recipe. This could increase the research and development of cement industry."
   ]
  },
  {
   "cell_type": "markdown",
   "metadata": {},
   "source": [
    "Concrete Compressive Strength \n",
    "\n",
    "---------------------------------\n",
    "\n",
    "Data Type: multivariate\n",
    " \n",
    "Abstract: Concrete is the most important material in civil engineering. The \n",
    "concrete compressive strength is a highly nonlinear function of age and \n",
    "ingredients. These ingredients include cement, blast furnace slag, fly ash, \n",
    "water, superplasticizer, coarse aggregate, and fine aggregate.\n",
    "\n",
    "---------------------------------\n",
    "\n",
    "Sources: \n",
    "\n",
    "  Original Owner and Donor\n",
    "  Prof. I-Cheng Yeh\n",
    "  Department of Information Management \n",
    "  Chung-Hua University, \n",
    "  Hsin Chu, Taiwan 30067, R.O.C.\n",
    "  e-mail:icyeh@chu.edu.tw\n",
    "  TEL:886-3-5186511\n",
    "\n",
    "  Date Donated: August 3, 2007\n",
    " \n",
    "---------------------------------\n",
    "\n",
    "Data Characteristics:\n",
    "    \n",
    "The actual concrete compressive strength (MPa) for a given mixture under a \n",
    "specific age (days) was determined from laboratory. Data is in raw form (not scaled). \n",
    "\n",
    "Summary Statistics: \n",
    "\n",
    "Number of instances (observations): 1030\n",
    "Number of Attributes: 9\n",
    "Attribute breakdown: 8 quantitative input variables, and 1 quantitative output variable\n",
    "Missing Attribute Values: None\n",
    "\n",
    "---------------------------------\n",
    "\n",
    "Variable Information:\n",
    "\n",
    "Given is the variable name, variable type, the measurement unit and a brief description. \n",
    "The concrete compressive strength is the regression problem. The order of this listing \n",
    "corresponds to the order of numerals along the rows of the database. \n",
    "\n",
    "Name -- Data Type -- Measurement -- Description\n",
    "\n",
    "Cement (component 1) -- quantitative -- kg in a m3 mixture -- Input Variable\n",
    "Blast Furnace Slag (component 2) -- quantitative -- kg in a m3 mixture -- Input Variable\n",
    "Fly Ash (component 3) -- quantitative -- kg in a m3 mixture -- Input Variable\n",
    "Water (component 4) -- quantitative -- kg in a m3 mixture -- Input Variable\n",
    "Superplasticizer (component 5) -- quantitative -- kg in a m3 mixture -- Input Variable\n",
    "Coarse Aggregate (component 6) -- quantitative -- kg in a m3 mixture -- Input Variable\n",
    "Fine Aggregate (component 7) -- quantitative -- kg in a m3 mixture -- Input Variable\n",
    "Age -- quantitative -- Day (1~365) -- Input Variable\n",
    "\n",
    "Past Usage: \n",
    "\n",
    "Main\n",
    "1. I-Cheng Yeh, \"Modeling of strength of high performance concrete using artificial \n",
    "neural networks,\" Cement and Concrete Research, Vol. 28, No. 12, pp. 1797-1808 (1998).\n",
    "\n",
    "Others\n",
    "2. I-Cheng Yeh, \"Modeling Concrete Strength with Augment-Neuron Networks,\" J. of \n",
    "Materials in Civil Engineering, ASCE, Vol. 10, No. 4, pp. 263-268 (1998).\n",
    "\n",
    "3. I-Cheng Yeh, \"Design of High Performance Concrete Mixture Using Neural Networks,\"  \n",
    "J. of Computing in Civil Engineering, ASCE, Vol. 13, No. 1, pp. 36-42 (1999).\n",
    "\n",
    "4. I-Cheng Yeh, \"Prediction of Strength of Fly Ash and Slag Concrete By The Use of \n",
    "Artificial Neural Networks,\" Journal of the Chinese Institute of Civil and Hydraulic \n",
    "Engineering, Vol. 15, No. 4, pp. 659-663 (2003).\n",
    "\n",
    "5. I-Cheng Yeh, \"A mix Proportioning Methodology for Fly Ash and Slag Concrete Using \n",
    "Artificial Neural Networks,\" Chung Hua Journal of Science and Engineering, Vol. 1, No. \n",
    "1, pp. 77-84 (2003).\n",
    "\n",
    "6. Yeh, I-Cheng, \"Analysis of strength of concrete using design of experiments and \n",
    "neural networks,\": Journal of Materials in Civil Engineering, ASCE, Vol.18, No.4, \n",
    "pp.597-604 ?2006?.\n",
    "\n",
    "---------------------------------\n",
    "\n",
    "Acknowledgements, Copyright Information, and Availability:\n",
    "\n",
    "NOTE: Reuse of this database is unlimited with retention of copyright notice for \n",
    "Prof. I-Cheng Yeh and the following published paper:\n",
    "\n",
    "I-Cheng Yeh, \"Modeling of strength of high performance concrete using artificial \n",
    "neural networks,\" Cement and Concrete Research, Vol. 28, No. 12, pp. 1797-1808 (1998)"
   ]
  },
  {
   "cell_type": "markdown",
   "metadata": {},
   "source": [
    "Now, let the part begin. Let us import some necessary packages first."
   ]
  },
  {
   "cell_type": "code",
   "execution_count": 1,
   "metadata": {},
   "outputs": [],
   "source": [
    "import numpy as np\n",
    "import pandas as pd\n",
    "import matplotlib.pyplot as plt\n",
    "import seaborn as sns"
   ]
  },
  {
   "cell_type": "markdown",
   "metadata": {},
   "source": [
    "Let us read the table and read the columns of the table, the head of the table and shape of the table first."
   ]
  },
  {
   "cell_type": "code",
   "execution_count": 10,
   "metadata": {},
   "outputs": [
    {
     "name": "stdout",
     "output_type": "stream",
     "text": [
      "Index(['Cement (component 1)(kg in a m^3 mixture)',\n",
      "       'Blast Furnace Slag (component 2)(kg in a m^3 mixture)',\n",
      "       'Fly Ash (component 3)(kg in a m^3 mixture)',\n",
      "       'Water  (component 4)(kg in a m^3 mixture)',\n",
      "       'Superplasticizer (component 5)(kg in a m^3 mixture)',\n",
      "       'Coarse Aggregate  (component 6)(kg in a m^3 mixture)',\n",
      "       'Fine Aggregate (component 7)(kg in a m^3 mixture)', 'Age (day)',\n",
      "       'Concrete compressive strength(MPa, megapascals) '],\n",
      "      dtype='object')\n"
     ]
    }
   ],
   "source": [
    "print (df.columns)"
   ]
  },
  {
   "cell_type": "code",
   "execution_count": 5,
   "metadata": {},
   "outputs": [
    {
     "name": "stdout",
     "output_type": "stream",
     "text": [
      "   Cement (component 1)(kg in a m^3 mixture)  \\\n",
      "0                                      540.0   \n",
      "1                                      540.0   \n",
      "2                                      332.5   \n",
      "3                                      332.5   \n",
      "4                                      198.6   \n",
      "\n",
      "   Blast Furnace Slag (component 2)(kg in a m^3 mixture)  \\\n",
      "0                                                0.0       \n",
      "1                                                0.0       \n",
      "2                                              142.5       \n",
      "3                                              142.5       \n",
      "4                                              132.4       \n",
      "\n",
      "   Fly Ash (component 3)(kg in a m^3 mixture)  \\\n",
      "0                                         0.0   \n",
      "1                                         0.0   \n",
      "2                                         0.0   \n",
      "3                                         0.0   \n",
      "4                                         0.0   \n",
      "\n",
      "   Water  (component 4)(kg in a m^3 mixture)  \\\n",
      "0                                      162.0   \n",
      "1                                      162.0   \n",
      "2                                      228.0   \n",
      "3                                      228.0   \n",
      "4                                      192.0   \n",
      "\n",
      "   Superplasticizer (component 5)(kg in a m^3 mixture)  \\\n",
      "0                                                2.5     \n",
      "1                                                2.5     \n",
      "2                                                0.0     \n",
      "3                                                0.0     \n",
      "4                                                0.0     \n",
      "\n",
      "   Coarse Aggregate  (component 6)(kg in a m^3 mixture)  \\\n",
      "0                                             1040.0      \n",
      "1                                             1055.0      \n",
      "2                                              932.0      \n",
      "3                                              932.0      \n",
      "4                                              978.4      \n",
      "\n",
      "   Fine Aggregate (component 7)(kg in a m^3 mixture)  Age (day)  \\\n",
      "0                                              676.0         28   \n",
      "1                                              676.0         28   \n",
      "2                                              594.0        270   \n",
      "3                                              594.0        365   \n",
      "4                                              825.5        360   \n",
      "\n",
      "   Concrete compressive strength(MPa, megapascals)   \n",
      "0                                         79.986111  \n",
      "1                                         61.887366  \n",
      "2                                         40.269535  \n",
      "3                                         41.052780  \n",
      "4                                         44.296075  \n",
      "df.shape: (1030, 9)\n"
     ]
    }
   ],
   "source": [
    "df=pd.read_excel(\"C:/Users/wrm/Desktop/cement-analysis/Concrete_Data.xls\")\n",
    "print (df.head())\n",
    "print (\"df.shape:\",df.shape)"
   ]
  },
  {
   "cell_type": "markdown",
   "metadata": {},
   "source": [
    "Let us start the basic statistical description towards the df-dataset(The cement dataset, we will call this as df in the later part). Here we will simply use the pandas.describe function."
   ]
  },
  {
   "cell_type": "code",
   "execution_count": 6,
   "metadata": {},
   "outputs": [
    {
     "name": "stdout",
     "output_type": "stream",
     "text": [
      "       Cement (component 1)(kg in a m^3 mixture)  \\\n",
      "count                                1030.000000   \n",
      "mean                                  281.165631   \n",
      "std                                   104.507142   \n",
      "min                                   102.000000   \n",
      "25%                                   192.375000   \n",
      "50%                                   272.900000   \n",
      "75%                                   350.000000   \n",
      "max                                   540.000000   \n",
      "\n",
      "       Blast Furnace Slag (component 2)(kg in a m^3 mixture)  \\\n",
      "count                                        1030.000000       \n",
      "mean                                           73.895485       \n",
      "std                                            86.279104       \n",
      "min                                             0.000000       \n",
      "25%                                             0.000000       \n",
      "50%                                            22.000000       \n",
      "75%                                           142.950000       \n",
      "max                                           359.400000       \n",
      "\n",
      "       Fly Ash (component 3)(kg in a m^3 mixture)  \\\n",
      "count                                 1030.000000   \n",
      "mean                                    54.187136   \n",
      "std                                     63.996469   \n",
      "min                                      0.000000   \n",
      "25%                                      0.000000   \n",
      "50%                                      0.000000   \n",
      "75%                                    118.270000   \n",
      "max                                    200.100000   \n",
      "\n",
      "       Water  (component 4)(kg in a m^3 mixture)  \\\n",
      "count                                1030.000000   \n",
      "mean                                  181.566359   \n",
      "std                                    21.355567   \n",
      "min                                   121.750000   \n",
      "25%                                   164.900000   \n",
      "50%                                   185.000000   \n",
      "75%                                   192.000000   \n",
      "max                                   247.000000   \n",
      "\n",
      "       Superplasticizer (component 5)(kg in a m^3 mixture)  \\\n",
      "count                                        1030.000000     \n",
      "mean                                            6.203112     \n",
      "std                                             5.973492     \n",
      "min                                             0.000000     \n",
      "25%                                             0.000000     \n",
      "50%                                             6.350000     \n",
      "75%                                            10.160000     \n",
      "max                                            32.200000     \n",
      "\n",
      "       Coarse Aggregate  (component 6)(kg in a m^3 mixture)  \\\n",
      "count                                        1030.000000      \n",
      "mean                                          972.918592      \n",
      "std                                            77.753818      \n",
      "min                                           801.000000      \n",
      "25%                                           932.000000      \n",
      "50%                                           968.000000      \n",
      "75%                                          1029.400000      \n",
      "max                                          1145.000000      \n",
      "\n",
      "       Fine Aggregate (component 7)(kg in a m^3 mixture)    Age (day)  \\\n",
      "count                                        1030.000000  1030.000000   \n",
      "mean                                          773.578883    45.662136   \n",
      "std                                            80.175427    63.169912   \n",
      "min                                           594.000000     1.000000   \n",
      "25%                                           730.950000     7.000000   \n",
      "50%                                           779.510000    28.000000   \n",
      "75%                                           824.000000    56.000000   \n",
      "max                                           992.600000   365.000000   \n",
      "\n",
      "       Concrete compressive strength(MPa, megapascals)   \n",
      "count                                       1030.000000  \n",
      "mean                                          35.817836  \n",
      "std                                           16.705679  \n",
      "min                                            2.331808  \n",
      "25%                                           23.707115  \n",
      "50%                                           34.442774  \n",
      "75%                                           46.136287  \n",
      "max                                           82.599225  \n"
     ]
    }
   ],
   "source": [
    "print (df.describe())"
   ]
  },
  {
   "cell_type": "markdown",
   "metadata": {},
   "source": [
    "We decide not to use data-normalization to deal with the dataset as we think the dataset is not extremely large and the data-normalization process for linear model does not improve the result(It could only improve the training speed)."
   ]
  },
  {
   "cell_type": "markdown",
   "metadata": {},
   "source": [
    "Here, we will read the X and the y, then use the sklearn.train_test_split to split the dataset."
   ]
  },
  {
   "cell_type": "code",
   "execution_count": 15,
   "metadata": {},
   "outputs": [
    {
     "name": "stdout",
     "output_type": "stream",
     "text": [
      "   Cement (component 1)(kg in a m^3 mixture)  \\\n",
      "0                                      540.0   \n",
      "1                                      540.0   \n",
      "2                                      332.5   \n",
      "3                                      332.5   \n",
      "4                                      198.6   \n",
      "\n",
      "   Blast Furnace Slag (component 2)(kg in a m^3 mixture)  \\\n",
      "0                                                0.0       \n",
      "1                                                0.0       \n",
      "2                                              142.5       \n",
      "3                                              142.5       \n",
      "4                                              132.4       \n",
      "\n",
      "   Fly Ash (component 3)(kg in a m^3 mixture)  \\\n",
      "0                                         0.0   \n",
      "1                                         0.0   \n",
      "2                                         0.0   \n",
      "3                                         0.0   \n",
      "4                                         0.0   \n",
      "\n",
      "   Water  (component 4)(kg in a m^3 mixture)  \\\n",
      "0                                      162.0   \n",
      "1                                      162.0   \n",
      "2                                      228.0   \n",
      "3                                      228.0   \n",
      "4                                      192.0   \n",
      "\n",
      "   Superplasticizer (component 5)(kg in a m^3 mixture)  \\\n",
      "0                                                2.5     \n",
      "1                                                2.5     \n",
      "2                                                0.0     \n",
      "3                                                0.0     \n",
      "4                                                0.0     \n",
      "\n",
      "   Coarse Aggregate  (component 6)(kg in a m^3 mixture)  \\\n",
      "0                                             1040.0      \n",
      "1                                             1055.0      \n",
      "2                                              932.0      \n",
      "3                                              932.0      \n",
      "4                                              978.4      \n",
      "\n",
      "   Fine Aggregate (component 7)(kg in a m^3 mixture)  Age (day)  \n",
      "0                                              676.0         28  \n",
      "1                                              676.0         28  \n",
      "2                                              594.0        270  \n",
      "3                                              594.0        365  \n",
      "4                                              825.5        360  \n",
      "0    79.986111\n",
      "1    61.887366\n",
      "2    40.269535\n",
      "3    41.052780\n",
      "4    44.296075\n",
      "Name: Concrete compressive strength(MPa, megapascals) , dtype: float64\n"
     ]
    }
   ],
   "source": [
    "X=df.drop([\"Concrete compressive strength(MPa, megapascals) \"],axis=1)\n",
    "y=df[\"Concrete compressive strength(MPa, megapascals) \"]\n",
    "from sklearn.model_selection import train_test_split\n",
    "print (X.head())\n",
    "print (y.head())\n",
    "\n",
    "X_train, X_test, y_train, y_test = train_test_split(X, y, test_size=0.33, random_state=42)"
   ]
  },
  {
   "cell_type": "code",
   "execution_count": 16,
   "metadata": {},
   "outputs": [
    {
     "name": "stdout",
     "output_type": "stream",
     "text": [
      "(690, 8)\n",
      "(690,)\n",
      "(340, 8)\n",
      "(340,)\n"
     ]
    }
   ],
   "source": [
    "print (X_train.shape)\n",
    "print (y_train.shape)\n",
    "print (X_test.shape)\n",
    "print (y_test.shape)"
   ]
  },
  {
   "cell_type": "code",
   "execution_count": 20,
   "metadata": {},
   "outputs": [
    {
     "name": "stdout",
     "output_type": "stream",
     "text": [
      "0.5969665653519132\n",
      "[ 0.12266899  0.11380286  0.08945039 -0.09049113  0.42695496  0.02789495\n",
      "  0.03551041  0.11547321]\n",
      "-57.89299643523111\n"
     ]
    }
   ],
   "source": [
    "from sklearn.linear_model import LinearRegression\n",
    "reg = LinearRegression().fit(X_train, y_train)\n",
    "print (reg.score(X_test,y_test))\n",
    "print (reg.coef_)\n",
    "print (reg.intercept_)"
   ]
  },
  {
   "cell_type": "code",
   "execution_count": 23,
   "metadata": {},
   "outputs": [
    {
     "data": {
      "text/plain": [
       "<matplotlib.collections.PathCollection at 0x1fe1b830fd0>"
      ]
     },
     "execution_count": 23,
     "metadata": {},
     "output_type": "execute_result"
    },
    {
     "data": {
      "image/png": "[encoded data removed]",
      "text/plain": [
       "<Figure size 432x288 with 1 Axes>"
      ]
     },
     "metadata": {
      "needs_background": "light"
     },
     "output_type": "display_data"
    }
   ],
   "source": [
    "y_predict=reg.predict(X_test)\n",
    "plt.scatter(y_predict,y_test)"
   ]
  },
  {
   "cell_type": "markdown",
   "metadata": {},
   "source": [
    "In the graph, the y-label is the predicted result and the x-label is the original result. We could notice that this graph is approximately an \"y=x\" line. That means our fitting towards the dataset is meaningful. We could use this simple model to predict the strength of the cement."
   ]
  }
 ],
 "metadata": {
  "kernelspec": {
   "display_name": "Python 3",
   "language": "python",
   "name": "python3"
  },
  "language_info": {
   "codemirror_mode": {
    "name": "ipython",
    "version": 3
   },
   "file_extension": ".py",
   "mimetype": "text/x-python",
   "name": "python",
   "nbconvert_exporter": "python",
   "pygments_lexer": "ipython3",
   "version": "3.7.0"
  }
 },
 "nbformat": 4,
 "nbformat_minor": 2
}
